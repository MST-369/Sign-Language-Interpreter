{
 "cells": [
  {
   "cell_type": "code",
   "execution_count": 10,
   "id": "aa1685a5-b1eb-4eaf-9632-244807f612d6",
   "metadata": {},
   "outputs": [],
   "source": [
    "import os\n",
    "import pandas as pd\n",
    "import numpy as np\n",
    "from glob import glob\n",
    "from xml.etree import ElementTree as et\n",
    "from functools import reduce"
   ]
  },
  {
   "cell_type": "code",
   "execution_count": 11,
   "id": "9ad9ee07-bc01-4ac3-b0d5-6b668db690f8",
   "metadata": {},
   "outputs": [],
   "source": [
    "#Extrac the xml file names from both train and test directories\n",
    "path=\"C:/Users/KOTA SRI SURYA TEJA/Desktop/MLDL dataset/American-sign-language.v2i.voc\"\n",
    "train_xml_names=[] # For training set\n",
    "test_xml_names=[] #For testing set\n",
    "valid_xml_anmes=[]\n",
    "for i in os.listdir(path):\n",
    "    path_next=os.path.join(path+'/'+i)\n",
    "    if os.path.isfile(path_next):\n",
    "        continue\n",
    "    if os.path.isdir(path+'/'+i):\n",
    "        if i=='train':\n",
    "            train_xml_names=[]\n",
    "            for j in os.listdir(path+'/'+i):\n",
    "                if j[-4:]=='.xml':\n",
    "                    train_xml_names.append(j)\n",
    "        if i=='test':\n",
    "            test_xml_names=[]\n",
    "            for j in os.listdir(path+'/'+i):\n",
    "                if j[-4:]=='.xml':\n",
    "                    test_xml_names.append(j)\n",
    "        if i=='valid':\n",
    "            valid_xml_names=[]\n",
    "            for j in os.listdir(path+'/'+i):\n",
    "                if j[-4:]=='.xml':\n",
    "                    valid_xml_names.append(j)"
   ]
  },
  {
   "cell_type": "code",
   "execution_count": 12,
   "id": "3f04a918-befd-4d76-ace3-4efde1ca082b",
   "metadata": {},
   "outputs": [
    {
     "data": {
      "text/plain": [
       "(['-ePyJBmOJ9s_mp4-8_jpg.rf.a8b56428bbe8d2b80bc050fbbbc514c0.xml',\n",
       "  '01831_augmented_darkness_mp4-11_jpg.rf.671ae9fc1c98e3cbc5c1c9bfda6b510c.xml',\n",
       "  '01831_augmented_darkness_mp4-7_jpg.rf.609ce414c5f5952cdb957434f547c51b.xml',\n",
       "  '01831_mp4-5_jpg.rf.a823f68cb36365cb747e7054e1a6d9af.xml',\n",
       "  '01831_mp4-8_jpg.rf.7965574e4f96a9dcf40deee426ef6b54.xml',\n",
       "  '01832_augmented_shifting_mp4-7_jpg.rf.4065049c052d8630e16552061b366d5d.xml',\n",
       "  '01836_augmented_shifting_mp4-2_jpg.rf.402b86999ab98d9e1098993e12715bfd.xml',\n",
       "  '1655257152_mp4-7_jpg.rf.b5e682c32c7e84493d961fbe1f79ed67.xml',\n",
       "  '1655556212_augmented_brightness_mp4-1_jpg.rf.1d60452211d8dc7f54d5b82d14b4cd54.xml',\n",
       "  '1655556212_augmented_speed_mp4-3_jpg.rf.74706e405b60f67360d6bdaa0b6d4667.xml'],\n",
       " ['-ePyJBmOJ9s_mp4-10_jpg.rf.1e6e42806e66f546dce7457edaf8b69e.xml',\n",
       "  '-ePyJBmOJ9s_mp4-10_jpg.rf.c7a1c3c095774e0edfa0ed928d5e6e26.xml',\n",
       "  '-ePyJBmOJ9s_mp4-5_jpg.rf.0044504d031d1d63c34661e08a91d231.xml',\n",
       "  '-ePyJBmOJ9s_mp4-5_jpg.rf.83dacabc468debe7fd47b4e38b22e471.xml',\n",
       "  '-ePyJBmOJ9s_mp4-5_jpg.rf.a57ded84267957bce803d824b9243a90.xml',\n",
       "  '-ePyJBmOJ9s_mp4-9_jpg.rf.0473bc3e426eed33573b5aea39e81238.xml',\n",
       "  '-ePyJBmOJ9s_mp4-9_jpg.rf.aa61f5c8b00db3c69478bf6f10d9ccfc.xml',\n",
       "  '01831_augmented_darkness_mp4-3_jpg.rf.60d7717ff3e1d91f07a2d4d3d3a1273c.xml',\n",
       "  '01831_augmented_darkness_mp4-3_jpg.rf.75ba97c2de5838bc627d1ba8a2a712a3.xml',\n",
       "  '01831_augmented_darkness_mp4-3_jpg.rf.b6ccbaa0fdd4c5c186c2df2bb4a87c64.xml'],\n",
       " ['-ePyJBmOJ9s_mp4-7_jpg.rf.394a0db1ae02b4343b6dcf497f6c4530.xml',\n",
       "  '01831_augmented_shifting_mp4-3_jpg.rf.d6a8867288b0f5e29850121d1d7be807.xml',\n",
       "  '01831_mp4-4_jpg.rf.c4a401dbe3b225a242011f6333c2f65c.xml',\n",
       "  '01831_mp4-6_jpg.rf.e71432d7b1dda11fd0b780714c57c27a.xml',\n",
       "  '01832_augmented_darkness_mp4-5_jpg.rf.e999e646c0872a9fed5d4e2d68e91900.xml',\n",
       "  '01832_mp4-8_jpg.rf.9eb80a6cc0c5c912f08cc7e480952c72.xml',\n",
       "  '01836_augmented_darkness_mp4-1_jpg.rf.bf094ba41639a83b41dad695387a0681.xml',\n",
       "  '01836_augmented_shifting_mp4-3_jpg.rf.952c6f8678f697e71da985c14936b2c0.xml',\n",
       "  '01836_augmented_shifting_mp4-4_jpg.rf.eda448a212bf4a585ccd578589ec9b25.xml',\n",
       "  '01836_mp4-4_jpg.rf.bf6bd8a188c610e805f349a59f3f5055.xml'])"
      ]
     },
     "execution_count": 12,
     "metadata": {},
     "output_type": "execute_result"
    }
   ],
   "source": [
    "test_xml_names[:10], train_xml_names[:10],valid_xml_names[:10]"
   ]
  },
  {
   "cell_type": "code",
   "execution_count": 13,
   "id": "20883c83-8217-408a-a5dd-7f4ae762cca6",
   "metadata": {},
   "outputs": [],
   "source": [
    "# Extract details like filename, width, height, sign, Xmin, Xmax, Ymin, Ymax\n",
    "def extract_from_xml(a,xml_names):\n",
    "    data=[]\n",
    "    for i in xml_names:\n",
    "        base=et.parse(os.path.join(path+a+i))\n",
    "        Ann=base.getroot()\n",
    "        size = Ann.find('size')\n",
    "        width = size.find('width').text\n",
    "        height = size.find('height').text\n",
    "        for j in Ann.findall('object'):\n",
    "            name = j.find('name').text\n",
    "            box = j.find('bndbox')\n",
    "            xmin = box.find('xmin').text\n",
    "            xmax = box.find('xmax').text\n",
    "            ymin = box.find('ymin').text\n",
    "            ymax = box.find('ymax').text\n",
    "            data.append([i,width,height,name,xmin,xmax,ymin,ymax])\n",
    "    return data"
   ]
  },
  {
   "cell_type": "code",
   "execution_count": 14,
   "id": "174a0405-e099-49c0-bcef-ccfdaa6d2793",
   "metadata": {},
   "outputs": [],
   "source": [
    "train_data=extract_from_xml('/train/',train_xml_names)\n",
    "test_data=extract_from_xml('/test/',test_xml_names)\n",
    "valid_data=extract_from_xml('/valid/',valid_xml_names)"
   ]
  },
  {
   "cell_type": "code",
   "execution_count": 15,
   "id": "5faa2482-f612-47ba-922f-176c91d1043b",
   "metadata": {},
   "outputs": [],
   "source": [
    "train_data=pd.DataFrame(train_data,columns=['filename', 'width', 'height', 'sign', 'Xmin', 'Xmax', 'Ymin', 'Ymax'])\n",
    "test_data=pd.DataFrame(test_data,columns=['filename', 'width', 'height', 'sign', 'Xmin', 'Xmax', 'Ymin', 'Ymax'])\n",
    "valid_data=pd.DataFrame(valid_data,columns=['filename', 'width', 'height', 'sign', 'Xmin', 'Xmax', 'Ymin', 'Ymax'])"
   ]
  },
  {
   "cell_type": "code",
   "execution_count": 16,
   "id": "74100070-d93c-4867-b422-11f288a2aae4",
   "metadata": {},
   "outputs": [
    {
     "name": "stdout",
     "output_type": "stream",
     "text": [
      "I\n",
      "106 102\n"
     ]
    }
   ],
   "source": [
    "for i in list(train_data['sign'].unique()):\n",
    "    if i not in list(valid_data['sign'].unique()):\n",
    "        print(i)\n",
    "print(len(train_data['sign'].unique()),len(test_data['sign'].unique()))"
   ]
  },
  {
   "cell_type": "code",
   "execution_count": 17,
   "id": "e7247994-72bf-442f-9a3f-c287b13e13db",
   "metadata": {},
   "outputs": [
    {
     "data": {
      "text/plain": [
       "(sign\n",
       " ingredients    565\n",
       " menu           547\n",
       " cup            441\n",
       " cold           403\n",
       " chicken        378\n",
       "               ... \n",
       " bye             65\n",
       " your            60\n",
       " receipt         59\n",
       " would           54\n",
       " wait            53\n",
       " Name: count, Length: 106, dtype: int64,\n",
       " sign\n",
       " menu           30\n",
       " ingredients    27\n",
       " straw          25\n",
       " cup            23\n",
       " cold           21\n",
       "                ..\n",
       " pickle          2\n",
       " R               1\n",
       " H               1\n",
       " A               1\n",
       " B               1\n",
       " Name: count, Length: 102, dtype: int64,\n",
       " sign\n",
       " menu           55\n",
       " ingredients    51\n",
       " straw          40\n",
       " cold           40\n",
       " cup            40\n",
       "                ..\n",
       " C               3\n",
       " Z               3\n",
       " A               2\n",
       " N               1\n",
       " X               1\n",
       " Name: count, Length: 105, dtype: int64)"
      ]
     },
     "execution_count": 17,
     "metadata": {},
     "output_type": "execute_result"
    }
   ],
   "source": [
    "train_data['sign'].value_counts(),test_data['sign'].value_counts(),valid_data['sign'].value_counts()"
   ]
  },
  {
   "cell_type": "code",
   "execution_count": 18,
   "id": "99cee734-489b-44fd-a15b-dd5ad78349ad",
   "metadata": {},
   "outputs": [],
   "source": [
    "# To train the machine Strings must be replace with numbers. So creating the dictionary.\n",
    "num_to_name={}\n",
    "name_to_num={}\n",
    "c=1\n",
    "for i in train_data['sign'].unique():\n",
    "    if i not in num_to_name:\n",
    "        num_to_name[c]=i\n",
    "        name_to_num[i]=c\n",
    "        c+=1"
   ]
  },
  {
   "cell_type": "code",
   "execution_count": 19,
   "id": "08f798d5-7d2f-4f15-b69f-5de2b6caaa1e",
   "metadata": {},
   "outputs": [
    {
     "data": {
      "text/plain": [
       "106"
      ]
     },
     "execution_count": 19,
     "metadata": {},
     "output_type": "execute_result"
    }
   ],
   "source": [
    "num_to_name[12],name_to_num['sorry'] # dict values from num to stringa and string to num\n",
    "len(num_to_name)"
   ]
  },
  {
   "cell_type": "code",
   "execution_count": 20,
   "id": "6e67cb1f-8fb9-41ae-8946-77cb927c66d1",
   "metadata": {},
   "outputs": [],
   "source": [
    "def turn_sign_to_num(a):\n",
    "    for i in range(len(a['sign'])):\n",
    "        a['sign'].loc[i]=name_to_num[a['sign'].loc[i]]\n",
    "    return a"
   ]
  },
  {
   "cell_type": "code",
   "execution_count": 21,
   "id": "ceb80c6a-bb65-404c-b066-3acbfc019ba2",
   "metadata": {},
   "outputs": [],
   "source": [
    "#Turns the strings the num\n",
    "train_data=turn_sign_to_num(train_data)\n",
    "test_data=turn_sign_to_num(test_data)\n",
    "valid_data=turn_sign_to_num(valid_data)"
   ]
  },
  {
   "cell_type": "code",
   "execution_count": 22,
   "id": "b2aa45e6-c116-4c24-886a-8bfceab633bf",
   "metadata": {},
   "outputs": [
    {
     "data": {
      "text/html": [
       "<div>\n",
       "<style scoped>\n",
       "    .dataframe tbody tr th:only-of-type {\n",
       "        vertical-align: middle;\n",
       "    }\n",
       "\n",
       "    .dataframe tbody tr th {\n",
       "        vertical-align: top;\n",
       "    }\n",
       "\n",
       "    .dataframe thead th {\n",
       "        text-align: right;\n",
       "    }\n",
       "</style>\n",
       "<table border=\"1\" class=\"dataframe\">\n",
       "  <thead>\n",
       "    <tr style=\"text-align: right;\">\n",
       "      <th></th>\n",
       "      <th>filename</th>\n",
       "      <th>width</th>\n",
       "      <th>height</th>\n",
       "      <th>sign</th>\n",
       "      <th>Xmin</th>\n",
       "      <th>Xmax</th>\n",
       "      <th>Ymin</th>\n",
       "      <th>Ymax</th>\n",
       "    </tr>\n",
       "  </thead>\n",
       "  <tbody>\n",
       "    <tr>\n",
       "      <th>0</th>\n",
       "      <td>-ePyJBmOJ9s_mp4-10_jpg.rf.1e6e42806e66f546dce7...</td>\n",
       "      <td>640</td>\n",
       "      <td>640</td>\n",
       "      <td>1</td>\n",
       "      <td>248</td>\n",
       "      <td>372</td>\n",
       "      <td>343</td>\n",
       "      <td>502</td>\n",
       "    </tr>\n",
       "  </tbody>\n",
       "</table>\n",
       "</div>"
      ],
      "text/plain": [
       "                                            filename width height sign Xmin  \\\n",
       "0  -ePyJBmOJ9s_mp4-10_jpg.rf.1e6e42806e66f546dce7...   640    640    1  248   \n",
       "\n",
       "  Xmax Ymin Ymax  \n",
       "0  372  343  502  "
      ]
     },
     "execution_count": 22,
     "metadata": {},
     "output_type": "execute_result"
    }
   ],
   "source": [
    "train_data.head(1)"
   ]
  },
  {
   "cell_type": "code",
   "execution_count": 49,
   "id": "e6a7d6c2-f6d8-4c15-aecf-c44d8d6cd428",
   "metadata": {},
   "outputs": [],
   "source": [
    "def create_txt_for_img(data,k):\n",
    "    for i in data['filename'].unique():\n",
    "        f=open(os.path.join(path+'/'+k+'/'+i[:-4]+'.txt'), \"w\")\n",
    "        a=data[data['filename']==i]\n",
    "        a=a.astype({'width':int,'height':int,'sign':int,'Xmin':int,'Xmax':int,'Ymin':int,'Ymax':int})\n",
    "        for j in a.values:\n",
    "            id = j[3]\n",
    "            X_c = ((j[5]+j[4])/2)/j[1]\n",
    "            Y_c = ((j[7]+j[6])/2)/j[2]\n",
    "            w = ((j[5]-j[4]))/j[1]\n",
    "            h = ((j[7]-j[6]))/j[2]\n",
    "            f.write('{0} {1} {2} {3} {4}\\n'.format(id,X_c,Y_c,w,h))\n",
    "        f.close()\n",
    "    "
   ]
  },
  {
   "cell_type": "code",
   "execution_count": 50,
   "id": "917b321c-0f4b-46fd-898b-849a8b1b4576",
   "metadata": {},
   "outputs": [],
   "source": [
    "create_txt_for_img(train_data,'train_images')\n",
    "create_txt_for_img(test_data,'test_images')\n",
    "create_txt_for_img(valid_data,'valid_images')"
   ]
  },
  {
   "cell_type": "code",
   "execution_count": 51,
   "id": "332eaa18-d92a-4043-aabf-3f211e3aacf9",
   "metadata": {},
   "outputs": [],
   "source": [
    "import shutil\n",
    "def move_images(data,path,a,b):\n",
    "    for i in data['filename'].unique():\n",
    "        src = os.path.join(path+'/'+a+'/'+i[:-4]+'.jpg')\n",
    "        des = os.path.join(path+'/'+b+'/'+i[:-4]+'.jpg')\n",
    "        shutil.copyfile(src,des)"
   ]
  },
  {
   "cell_type": "code",
   "execution_count": 52,
   "id": "dabd19f6-350f-42e6-833f-901b10e4f6ad",
   "metadata": {},
   "outputs": [],
   "source": [
    "move_images(train_data,path,'train','train_images')\n",
    "move_images(test_data,path,'test','test_images')\n",
    "move_images(valid_data,path,'valid','valid_images')"
   ]
  },
  {
   "cell_type": "code",
   "execution_count": 53,
   "id": "b73c3ea5-6510-4e6a-ad8f-1d1324450b7c",
   "metadata": {},
   "outputs": [
    {
     "data": {
      "text/plain": [
       "['chicken',\n",
       " 'alcohol',\n",
       " 'drink',\n",
       " 'cost',\n",
       " 'allergy',\n",
       " 'bag',\n",
       " 'bitter',\n",
       " 'bread',\n",
       " 'sweet',\n",
       " 'manager',\n",
       " 'french fries',\n",
       " 'hello',\n",
       " 'milk',\n",
       " 'napkin',\n",
       " 'pepper',\n",
       " 'cup',\n",
       " 'water',\n",
       " 'warm',\n",
       " 'A',\n",
       " 'eggs',\n",
       " 'additional',\n",
       " 'cheese',\n",
       " 'what',\n",
       " 'bill',\n",
       " 'sugar',\n",
       " 'spicy',\n",
       " 'ingredients',\n",
       " 'pizza',\n",
       " 'thank-you',\n",
       " 'burger',\n",
       " 'enjoy',\n",
       " 'menu',\n",
       " 'bacon',\n",
       " 'straw',\n",
       " 'drive',\n",
       " 'yoghurt',\n",
       " 'order',\n",
       " 'hot',\n",
       " 'coupon',\n",
       " 'urgent',\n",
       " 'tissues',\n",
       " 'lid',\n",
       " 'coke',\n",
       " 'sauce',\n",
       " 'refill',\n",
       " 'dessert',\n",
       " 'cold',\n",
       " 'soda',\n",
       " 'juicy',\n",
       " 'lactose',\n",
       " 'fresh',\n",
       " 'repeat',\n",
       " 'credit card',\n",
       " 'total',\n",
       " 'cash',\n",
       " 'mustard',\n",
       " 'receipt',\n",
       " 'please',\n",
       " 'your',\n",
       " 'sandwich',\n",
       " 'barbecue',\n",
       " 'biscuit',\n",
       " 'tomato',\n",
       " 'would',\n",
       " 'ready',\n",
       " 'bye',\n",
       " 'ketchup',\n",
       " 'eat',\n",
       " 'safe',\n",
       " 'cake',\n",
       " 'sorry',\n",
       " 'pickle',\n",
       " 'fork',\n",
       " 'spoon',\n",
       " 'lettuce',\n",
       " 'wait',\n",
       " 'icecream',\n",
       " 'vegetables',\n",
       " 'B',\n",
       " 'C',\n",
       " 'D',\n",
       " 'no',\n",
       " 'E',\n",
       " 'F',\n",
       " 'G',\n",
       " 'H',\n",
       " 'I',\n",
       " 'J',\n",
       " 'K',\n",
       " 'L',\n",
       " 'M',\n",
       " 'N',\n",
       " 'salt',\n",
       " 'O',\n",
       " 'P',\n",
       " 'Q',\n",
       " 'R',\n",
       " 'S',\n",
       " 'small',\n",
       " 'T',\n",
       " 'U',\n",
       " 'V',\n",
       " 'W',\n",
       " 'X',\n",
       " 'Y',\n",
       " 'Z']"
      ]
     },
     "execution_count": 53,
     "metadata": {},
     "output_type": "execute_result"
    }
   ],
   "source": [
    "a=[]\n",
    "for i in range(1,107):\n",
    "    a.append(num_to_name[i])\n",
    "a"
   ]
  },
  {
   "cell_type": "code",
   "execution_count": 53,
   "id": "76a70820-8c7b-480f-ad54-936cdef711f3",
   "metadata": {},
   "outputs": [],
   "source": [
    "test_data.to_csv('Test_output.csv')"
   ]
  },
  {
   "cell_type": "code",
   "execution_count": 50,
   "id": "cf65f2c5",
   "metadata": {},
   "outputs": [],
   "source": []
  },
  {
   "cell_type": "code",
   "execution_count": null,
   "id": "96891301-0410-4936-a4c1-8b1e44562167",
   "metadata": {},
   "outputs": [],
   "source": []
  }
 ],
 "metadata": {
  "kernelspec": {
   "display_name": "env",
   "language": "python",
   "name": "env"
  },
  "language_info": {
   "codemirror_mode": {
    "name": "ipython",
    "version": 3
   },
   "file_extension": ".py",
   "mimetype": "text/x-python",
   "name": "python",
   "nbconvert_exporter": "python",
   "pygments_lexer": "ipython3",
   "version": "3.8.18"
  }
 },
 "nbformat": 4,
 "nbformat_minor": 5
}
